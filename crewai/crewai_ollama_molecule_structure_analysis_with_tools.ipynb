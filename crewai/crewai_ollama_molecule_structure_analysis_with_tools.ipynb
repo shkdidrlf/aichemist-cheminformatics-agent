{
 "cells": [
  {
   "cell_type": "markdown",
   "id": "e987a3f3-fa9e-43b7-b169-ddea1d2d89db",
   "metadata": {},
   "source": [
    "# Molecular structure analysis agent\n",
    "1. Download smiles code with the name of the compound.\n",
    "2. Analyze Lipinski's rule of 5 with rdkit.\n",
    "3. Return the answer to user."
   ]
  },
  {
   "cell_type": "code",
   "execution_count": 2,
   "id": "36d04060-0310-4750-bf7b-7377ea69c5d5",
   "metadata": {},
   "outputs": [],
   "source": [
    "import os\n",
    "from crewai import LLM\n",
    "\n",
    "ollama = LLM(model='ollama/qwen3:0.6b',base_url='http://localhost:11434')"
   ]
  },
  {
   "cell_type": "code",
   "execution_count": 3,
   "id": "eec7f4b8-c58a-40e7-a31d-390c8b0e55e9",
   "metadata": {},
   "outputs": [],
   "source": [
    "from crewai.tools import BaseTool\n",
    "from crewai import Agent, Task, Crew, Process\n",
    "\n",
    "import pubchempy as pcp\n",
    "from rdkit import Chem\n",
    "from rdkit.Chem import Descriptors\n",
    "from rdkit.Chem.Lipinski import NumHAcceptors, NumHDonors\n",
    "\n",
    "class retrieve_smiles_from_pubchem(BaseTool):\n",
    "    name: str =\"Tool to access pubchem\"\n",
    "    description: str = (\"Retrieve smiles code of the compound with the name.\")\n",
    "\n",
    "    def _run(self, chemical: str) -> str:\n",
    "        compounds = pcp.get_compounds(chemical,'name')\n",
    "        if compounds:\n",
    "            smi = compounds[0].smiles\n",
    "            return smi\n",
    "        else:\n",
    "            return f'{chemical} is not found in PubChem.'\n",
    "\n",
    "class check_lipinski_ro5(BaseTool):\n",
    "    name: str =\"Tool to check compliance of lipinski's rule of 5 using rdkit based on smiles code\"\n",
    "    description: str = (\"\"\"\n",
    "    Check compliance with Lipinski's Rule of Five.\n",
    "\n",
    "    *Abbreviation*\n",
    "    mw: molecular weight\n",
    "    logp: octanol/water partition coefficient\n",
    "    hbd: hydrogen bonding donor\n",
    "    hba: hydrogen bonding acceptor\n",
    "\n",
    "    1) smiles code is needed to get rdkit mol, essential for computation of Lipinski's rule of five.\n",
    "    2) calculate mw, logp, hbd, hba using rdkit library.\n",
    "    3) check conditions (mw<=500, logp<=5, hbd<=5, hbd<=10).\n",
    "    4) Three out of four conditions should be satisifed to comply with the Lipinski's rule of five.\n",
    "    5) Return the dictionary in which each condition to check compliance with Lipinski's rule of five.\n",
    "    \"\"\")\n",
    "\n",
    "    def _run(self, smiles: str) -> dict:\n",
    "        mol = Chem.MolFromSmiles(smiles)\n",
    "        if not mol:\n",
    "            return {}  # Invalid SMILES\n",
    "        \n",
    "        # Calculate properties\n",
    "        mw = Descriptors.ExactMolWt(mol)\n",
    "        logp = Descriptors.MolLogP(mol)\n",
    "        hbd = NumHDonors(mol)\n",
    "        hba = NumHAcceptors(mol)\n",
    "        \n",
    "        # Check thresholds\n",
    "        conditions = [\n",
    "            mw <= 500,\n",
    "            logp <= 5,\n",
    "            hbd <= 5,\n",
    "            hba <= 10\n",
    "        ]\n",
    "        \n",
    "        # Allow ≤1 violation\n",
    "        ro5_compliant = sum(conditions) >= 3\n",
    "        return {\n",
    "            \"MW\": round(mw, 2),\n",
    "            \"LogP\": round(logp, 2),\n",
    "            \"HBD\": hbd,\n",
    "            \"HBA\": hba,\n",
    "            \"RO5_Compliant\": ro5_compliant\n",
    "        }"
   ]
  },
  {
   "cell_type": "code",
   "execution_count": 4,
   "id": "6fd215bb-ad75-4274-9712-c7291769f092",
   "metadata": {},
   "outputs": [
    {
     "data": {
      "text/plain": [
       "'CC(=O)NC1=CC=C(C=C1)O'"
      ]
     },
     "execution_count": 4,
     "metadata": {},
     "output_type": "execute_result"
    }
   ],
   "source": [
    "pubchem_tool = retrieve_smiles_from_pubchem()\n",
    "pubchem_tool._run('acetaminophen')"
   ]
  },
  {
   "cell_type": "code",
   "execution_count": 5,
   "id": "29a5d9da-082b-41da-968c-a73122fa9a99",
   "metadata": {},
   "outputs": [
    {
     "data": {
      "text/plain": [
       "{'MW': 151.06, 'LogP': 1.35, 'HBD': 2, 'HBA': 2, 'RO5_Compliant': True}"
      ]
     },
     "execution_count": 5,
     "metadata": {},
     "output_type": "execute_result"
    }
   ],
   "source": [
    "ro5_tool = check_lipinski_ro5()\n",
    "ro5_tool._run(pubchem_tool._run('acetaminophen'))"
   ]
  },
  {
   "cell_type": "code",
   "execution_count": null,
   "id": "df35419c-cacf-4c5f-9a12-8bbfde206374",
   "metadata": {},
   "outputs": [],
   "source": [
    "# Agent to get smiles code\n",
    "pubchem_agent = Agent(\n",
    "    role=\"PubChem Agent\",\n",
    "    goal=\"Get smiles code with the name of compound: {request}\",\n",
    "    tools=[pubchem_tool],\n",
    "    backstory=\"You should use pubchem_tool to get smiles code based on the name of compound.\",\n",
    "    llm = ollama\n",
    ")\n",
    "\n",
    "# Agent checking Lipinski's rule of 5 \n",
    "ro5_agent = Agent(\n",
    "    role=\"RO5 Agent\",\n",
    "    goal=\"Use smiles code to check lipinski's rule of five based on rdkit\",\n",
    "    tools=[ro5_tool],\n",
    "    backstory=\"You should use ro5_tool with smiles code from PubChem Agent\",\n",
    "    llm = ollama\n",
    ")\n",
    "\n",
    "# PubChem agent's task.\n",
    "pubchem_task = Task(\n",
    "    description=\"Get smiles code using pubchempy with the name of compound: {request}\",\n",
    "    expected_output=\"Smiles code\",\n",
    "    tools=[pubchem_tool],  # The function will be passed here as the tool\n",
    "    agent=pubchem_agent\n",
    ")\n",
    "\n",
    "# RO5 agent's tak\n",
    "ro5_task = Task(\n",
    "    description=\"Check Lipinski's rule of five with the given smiles code.\",\n",
    "    expected_output=\"Final answer based on lipinski's rule of 5 compliance (MW, logP, HBD, HBA)\",\n",
    "    tools=[ro5_tool],  # The function will be passed here as the tool\n",
    "    agent=ro5_agent\n",
    ")\n",
    "\n",
    "usr_query = \"acetaminophen\"\n",
    "\n",
    "# Crew runs the process\n",
    "crew = Crew(agents=[pubchem_agent, ro5_agent],\n",
    "            tasks=[pubchem_task, ro5_task],\n",
    "            process=Process.sequential)\n",
    "\n",
    "result = crew.kickoff(inputs={\"request\": usr_query})\n",
    "print(result)"
   ]
  },
  {
   "cell_type": "code",
   "execution_count": null,
   "id": "21c849b5-a184-41b3-8cb1-a894d2866b5d",
   "metadata": {},
   "outputs": [],
   "source": [
    "import re\n",
    "\n",
    "final_output = re.split(r'<\\/think>', result.tasks_output[-1].raw)[-1].strip()\n",
    "final_output"
   ]
  },
  {
   "cell_type": "code",
   "execution_count": null,
   "id": "4c1bc476-3f47-4414-b309-74def8904439",
   "metadata": {},
   "outputs": [],
   "source": []
  }
 ],
 "metadata": {
  "kernelspec": {
   "display_name": "Python [conda env:base] *",
   "language": "python",
   "name": "conda-base-py"
  },
  "language_info": {
   "codemirror_mode": {
    "name": "ipython",
    "version": 3
   },
   "file_extension": ".py",
   "mimetype": "text/x-python",
   "name": "python",
   "nbconvert_exporter": "python",
   "pygments_lexer": "ipython3",
   "version": "3.12.3"
  }
 },
 "nbformat": 4,
 "nbformat_minor": 5
}
